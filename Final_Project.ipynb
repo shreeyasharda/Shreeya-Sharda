{
  "nbformat": 4,
  "nbformat_minor": 0,
  "metadata": {
    "colab": {
      "provenance": [],
      "authorship_tag": "ABX9TyMk/sV37P1yiX6rUMT81y2l",
      "include_colab_link": true
    },
    "kernelspec": {
      "name": "python3",
      "display_name": "Python 3"
    },
    "language_info": {
      "name": "python"
    }
  },
  "cells": [
    {
      "cell_type": "markdown",
      "metadata": {
        "id": "view-in-github",
        "colab_type": "text"
      },
      "source": [
        "<a href=\"https://colab.research.google.com/github/shreeyasharda/Shreeya-Sharda/blob/main/Final_Project.ipynb\" target=\"_parent\"><img src=\"https://colab.research.google.com/assets/colab-badge.svg\" alt=\"Open In Colab\"/></a>"
      ]
    },
    {
      "cell_type": "code",
      "execution_count": null,
      "metadata": {
        "id": "cdJz_gaNNHba"
      },
      "outputs": [],
      "source": []
    },
    {
      "cell_type": "code",
      "source": [
        "import duckdb"
      ],
      "metadata": {
        "id": "VIGDIt0ONSwK"
      },
      "execution_count": 2,
      "outputs": []
    },
    {
      "cell_type": "code",
      "source": [
        "fileVariable = '/Users/shreeyasharda/Documents/CS6443/Final_Project/Capital_BikeShare_Data/daily_rent_detail.csv'\n"
      ],
      "metadata": {
        "id": "QbTsPEKROF1f"
      },
      "execution_count": 10,
      "outputs": []
    },
    {
      "cell_type": "code",
      "source": [
        "#duckdb.sql(f'CREATE TEMPORARY VIEW V2 AS (SELECT * FROM \"{path}public*.csv\")')\n",
        "duckdb.sql(f'CREATE TEMPORARY VIEW V1 AS (SELECT * FROM \"{fileVariable}\") ')"
      ],
      "metadata": {
        "colab": {
          "base_uri": "https://localhost:8080/",
          "height": 173
        },
        "id": "pmZIAHo_NrXz",
        "outputId": "ce5f6048-249f-4656-e588-4d0f871b84ff"
      },
      "execution_count": 11,
      "outputs": [
        {
          "output_type": "error",
          "ename": "IOException",
          "evalue": "IO Error: No files found that match the pattern \"/Users/shreeyasharda/Documents/CS6443/Final_Project/Capital_BikeShare_Data/daily_rent_detail.csv\"",
          "traceback": [
            "\u001b[0;31m---------------------------------------------------------------------------\u001b[0m",
            "\u001b[0;31mIOException\u001b[0m                               Traceback (most recent call last)",
            "\u001b[0;32m<ipython-input-11-1e39f7c0aa1d>\u001b[0m in \u001b[0;36m<cell line: 2>\u001b[0;34m()\u001b[0m\n\u001b[1;32m      1\u001b[0m \u001b[0;31m#duckdb.sql(f'CREATE TEMPORARY VIEW V2 AS (SELECT * FROM \"{path}public*.csv\")')\u001b[0m\u001b[0;34m\u001b[0m\u001b[0;34m\u001b[0m\u001b[0m\n\u001b[0;32m----> 2\u001b[0;31m \u001b[0mduckdb\u001b[0m\u001b[0;34m.\u001b[0m\u001b[0msql\u001b[0m\u001b[0;34m(\u001b[0m\u001b[0;34mf'CREATE TEMPORARY VIEW V1 AS (SELECT * FROM \"{fileVariable}\") '\u001b[0m\u001b[0;34m)\u001b[0m\u001b[0;34m\u001b[0m\u001b[0;34m\u001b[0m\u001b[0m\n\u001b[0m",
            "\u001b[0;31mIOException\u001b[0m: IO Error: No files found that match the pattern \"/Users/shreeyasharda/Documents/CS6443/Final_Project/Capital_BikeShare_Data/daily_rent_detail.csv\""
          ]
        }
      ]
    }
  ]
}